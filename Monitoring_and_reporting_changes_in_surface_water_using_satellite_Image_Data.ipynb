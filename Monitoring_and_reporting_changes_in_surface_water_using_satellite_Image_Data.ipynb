{
  "nbformat": 4,
  "nbformat_minor": 0,
  "metadata": {
    "colab": {
      "name": "Monitoring and reporting changes in surface water using satellite Image Data.ipynb",
      "provenance": [],
      "authorship_tag": "ABX9TyOEDg0bbI2/k5rn6PDfPOfm",
      "include_colab_link": true
    },
    "kernelspec": {
      "name": "python3",
      "display_name": "Python 3"
    }
  },
  "cells": [
    {
      "cell_type": "markdown",
      "metadata": {
        "id": "view-in-github",
        "colab_type": "text"
      },
      "source": [
        "<a href=\"https://colab.research.google.com/github/wamaithaNyamu/ML-NOTEBOOKS/blob/master/Monitoring_and_reporting_changes_in_surface_water_using_satellite_Image_Data.ipynb\" target=\"_parent\"><img src=\"https://colab.research.google.com/assets/colab-badge.svg\" alt=\"Open In Colab\"/></a>"
      ]
    },
    {
      "cell_type": "markdown",
      "metadata": {
        "id": "rjDiD_iBKq7n",
        "colab_type": "text"
      },
      "source": [
        "#Introduction"
      ]
    },
    {
      "cell_type": "markdown",
      "metadata": {
        "id": "lCADGgAUKHJm",
        "colab_type": "text"
      },
      "source": [
        "According to UNESCO, fresh water is the most important resource for human kind survival. Fresh water is an enabling or a source of conflict for any technologoical, social, cooperation or conflict in the world. Comparing past water resources with those of the present can help us understand how past societal and economic decisions can contribute to more informed management decision in the future. We have publicly available dataset from organizations like NASA and European Space Agency. Yoi have been hired by the UNESCO,to use satellitte imagery and deep learning image segmentation algorithms to assess the changes to fresh water resources over time."
      ]
    },
    {
      "cell_type": "markdown",
      "metadata": {
        "id": "JYaOxSDoL-zw",
        "colab_type": "text"
      },
      "source": [
        "#Getting started"
      ]
    },
    {
      "cell_type": "code",
      "metadata": {
        "id": "WczgzZ9HMXdq",
        "colab_type": "code",
        "colab": {}
      },
      "source": [
        ""
      ],
      "execution_count": null,
      "outputs": []
    },
    {
      "cell_type": "markdown",
      "metadata": {
        "id": "9YLmgbAHMCsj",
        "colab_type": "text"
      },
      "source": [
        "#Data Acquisition and Preprocessing"
      ]
    },
    {
      "cell_type": "code",
      "metadata": {
        "id": "xaQe86WwMHRS",
        "colab_type": "code",
        "colab": {}
      },
      "source": [
        ""
      ],
      "execution_count": null,
      "outputs": []
    },
    {
      "cell_type": "markdown",
      "metadata": {
        "id": "SN9JWs2EMK1d",
        "colab_type": "text"
      },
      "source": [
        "#Enhancing and segmenting Images"
      ]
    },
    {
      "cell_type": "code",
      "metadata": {
        "id": "TWJKdzjVMYH8",
        "colab_type": "code",
        "colab": {}
      },
      "source": [
        ""
      ],
      "execution_count": null,
      "outputs": []
    },
    {
      "cell_type": "markdown",
      "metadata": {
        "id": "nvYGb3CpMLrH",
        "colab_type": "text"
      },
      "source": [
        "#Model Training and Evaluation"
      ]
    },
    {
      "cell_type": "code",
      "metadata": {
        "id": "09--ucrXMYuS",
        "colab_type": "code",
        "colab": {}
      },
      "source": [
        ""
      ],
      "execution_count": null,
      "outputs": []
    },
    {
      "cell_type": "markdown",
      "metadata": {
        "id": "H8QMjqYPMOji",
        "colab_type": "text"
      },
      "source": [
        "#Model Optimisation"
      ]
    },
    {
      "cell_type": "code",
      "metadata": {
        "id": "b95VH6-CMZLV",
        "colab_type": "code",
        "colab": {}
      },
      "source": [
        ""
      ],
      "execution_count": null,
      "outputs": []
    },
    {
      "cell_type": "markdown",
      "metadata": {
        "id": "3GZssy7iMQWI",
        "colab_type": "text"
      },
      "source": [
        "#Reporting to UNESCO"
      ]
    },
    {
      "cell_type": "code",
      "metadata": {
        "id": "OC-mJ1yUMT2Y",
        "colab_type": "code",
        "colab": {}
      },
      "source": [
        ""
      ],
      "execution_count": null,
      "outputs": []
    }
  ]
}