{
 "cells": [
  {
   "cell_type": "markdown",
   "metadata": {},
   "source": [
    "# Introduction\n",
    "\n",
    "* MNIST database of hand written digits (http://yann.lecun.com/exdb/mnist/)\n",
    "\n",
    "*  Create a convolutional neural network (CNN or convonet)(wikipedidia discussion on convolutional neural networks)\n",
    "    (https://en.wikipedia.org/wiki/Convolutional_neural_network)\n",
    "\n",
    "* Common in computer-vision applications\n",
    "    * Recignizing hand written digits and images\n",
    "    * self-driving cars\n",
    "    * Recognizing objects in images and videos\n",
    "    \n",
    "* Non-vision applications\n",
    "    * Natural-language processing\n",
    "    * Recommender systems\n",
    "\"\"\"\n"
   ]
  },
  {
   "cell_type": "markdown",
   "metadata": {},
   "source": [
    "# The dataset\n",
    "\n",
    "* 60,000 labelled `(supervised)` digid image samples for training and 10000 for testing\n",
    "\n",
    "* The data is a 28 by 28 pixel image (784 features), represented as Numpy Arrays\n",
    "\n",
    "* Grayscale pixel intensity (shade) -- 0-255\n",
    "\n",
    "* In Convent we use the probabilistic classification\n",
    "    + Model will output 10 probabilities this is the likelihood 0-9\n",
    "    + Highest probability is the predicted value\n",
    "    "
   ]
  },
  {
   "cell_type": "markdown",
   "metadata": {},
   "source": [
    "# Keras and Deep learning\n",
    "\n",
    "* Reproducability is difficult since the libraries tend to parallelize the floating point calculations\n",
    "\n",
    "* Each time the calculations execute the execution is in different order.\n",
    "\n",
    "* Produce different results in each execution\n"
   ]
  },
  {
   "cell_type": "markdown",
   "metadata": {},
   "source": [
    "# Building the network (Model)\n",
    "\n",
    "* Sequence of layers containing the neurons used to learn from the samples\n",
    "\n",
    "* Each layer receieves inputs, process it, (activation function) and produce the results\n",
    "\n",
    "* The more the layers you stack, the deeper the network -- deep learning\n",
    "\n",
    "* Loss function -> produces a measure of how well the network predicts the target values.\n",
    "  The lower the value of the loss the better the predictions\n",
    "\n",
    "* Optimizer minimize the values produced by the loss function to tune the network to make better predictions"
   ]
  },
  {
   "cell_type": "markdown",
   "metadata": {},
   "source": [
    "# Loading the MNIST Dataset "
   ]
  },
  {
   "cell_type": "code",
   "execution_count": 1,
   "metadata": {},
   "outputs": [
    {
     "name": "stderr",
     "output_type": "stream",
     "text": [
      "C:\\Users\\Wamaitha\\anaconda3\\envs\\tf_env\\lib\\site-packages\\tensorflow\\python\\framework\\dtypes.py:516: FutureWarning: Passing (type, 1) or '1type' as a synonym of type is deprecated; in a future version of numpy, it will be understood as (type, (1,)) / '(1,)type'.\n",
      "  _np_qint8 = np.dtype([(\"qint8\", np.int8, 1)])\n",
      "C:\\Users\\Wamaitha\\anaconda3\\envs\\tf_env\\lib\\site-packages\\tensorflow\\python\\framework\\dtypes.py:517: FutureWarning: Passing (type, 1) or '1type' as a synonym of type is deprecated; in a future version of numpy, it will be understood as (type, (1,)) / '(1,)type'.\n",
      "  _np_quint8 = np.dtype([(\"quint8\", np.uint8, 1)])\n",
      "C:\\Users\\Wamaitha\\anaconda3\\envs\\tf_env\\lib\\site-packages\\tensorflow\\python\\framework\\dtypes.py:518: FutureWarning: Passing (type, 1) or '1type' as a synonym of type is deprecated; in a future version of numpy, it will be understood as (type, (1,)) / '(1,)type'.\n",
      "  _np_qint16 = np.dtype([(\"qint16\", np.int16, 1)])\n",
      "C:\\Users\\Wamaitha\\anaconda3\\envs\\tf_env\\lib\\site-packages\\tensorflow\\python\\framework\\dtypes.py:519: FutureWarning: Passing (type, 1) or '1type' as a synonym of type is deprecated; in a future version of numpy, it will be understood as (type, (1,)) / '(1,)type'.\n",
      "  _np_quint16 = np.dtype([(\"quint16\", np.uint16, 1)])\n",
      "C:\\Users\\Wamaitha\\anaconda3\\envs\\tf_env\\lib\\site-packages\\tensorflow\\python\\framework\\dtypes.py:520: FutureWarning: Passing (type, 1) or '1type' as a synonym of type is deprecated; in a future version of numpy, it will be understood as (type, (1,)) / '(1,)type'.\n",
      "  _np_qint32 = np.dtype([(\"qint32\", np.int32, 1)])\n",
      "C:\\Users\\Wamaitha\\anaconda3\\envs\\tf_env\\lib\\site-packages\\tensorflow\\python\\framework\\dtypes.py:525: FutureWarning: Passing (type, 1) or '1type' as a synonym of type is deprecated; in a future version of numpy, it will be understood as (type, (1,)) / '(1,)type'.\n",
      "  np_resource = np.dtype([(\"resource\", np.ubyte, 1)])\n",
      "C:\\Users\\Wamaitha\\anaconda3\\envs\\tf_env\\lib\\site-packages\\tensorboard\\compat\\tensorflow_stub\\dtypes.py:541: FutureWarning: Passing (type, 1) or '1type' as a synonym of type is deprecated; in a future version of numpy, it will be understood as (type, (1,)) / '(1,)type'.\n",
      "  _np_qint8 = np.dtype([(\"qint8\", np.int8, 1)])\n",
      "C:\\Users\\Wamaitha\\anaconda3\\envs\\tf_env\\lib\\site-packages\\tensorboard\\compat\\tensorflow_stub\\dtypes.py:542: FutureWarning: Passing (type, 1) or '1type' as a synonym of type is deprecated; in a future version of numpy, it will be understood as (type, (1,)) / '(1,)type'.\n",
      "  _np_quint8 = np.dtype([(\"quint8\", np.uint8, 1)])\n",
      "C:\\Users\\Wamaitha\\anaconda3\\envs\\tf_env\\lib\\site-packages\\tensorboard\\compat\\tensorflow_stub\\dtypes.py:543: FutureWarning: Passing (type, 1) or '1type' as a synonym of type is deprecated; in a future version of numpy, it will be understood as (type, (1,)) / '(1,)type'.\n",
      "  _np_qint16 = np.dtype([(\"qint16\", np.int16, 1)])\n",
      "C:\\Users\\Wamaitha\\anaconda3\\envs\\tf_env\\lib\\site-packages\\tensorboard\\compat\\tensorflow_stub\\dtypes.py:544: FutureWarning: Passing (type, 1) or '1type' as a synonym of type is deprecated; in a future version of numpy, it will be understood as (type, (1,)) / '(1,)type'.\n",
      "  _np_quint16 = np.dtype([(\"quint16\", np.uint16, 1)])\n",
      "C:\\Users\\Wamaitha\\anaconda3\\envs\\tf_env\\lib\\site-packages\\tensorboard\\compat\\tensorflow_stub\\dtypes.py:545: FutureWarning: Passing (type, 1) or '1type' as a synonym of type is deprecated; in a future version of numpy, it will be understood as (type, (1,)) / '(1,)type'.\n",
      "  _np_qint32 = np.dtype([(\"qint32\", np.int32, 1)])\n",
      "C:\\Users\\Wamaitha\\anaconda3\\envs\\tf_env\\lib\\site-packages\\tensorboard\\compat\\tensorflow_stub\\dtypes.py:550: FutureWarning: Passing (type, 1) or '1type' as a synonym of type is deprecated; in a future version of numpy, it will be understood as (type, (1,)) / '(1,)type'.\n",
      "  np_resource = np.dtype([(\"resource\", np.ubyte, 1)])\n"
     ]
    }
   ],
   "source": [
    "from tensorflow.keras.datasets import mnist\n",
    "# from sklearn.dataset import fetch_mldata"
   ]
  },
  {
   "cell_type": "code",
   "execution_count": 2,
   "metadata": {},
   "outputs": [],
   "source": [
    "# load the data as training and testing\n",
    "(x_train, y_train), (x_test, y_test) = mnist.load_data()"
   ]
  },
  {
   "cell_type": "code",
   "execution_count": 3,
   "metadata": {},
   "outputs": [
    {
     "data": {
      "text/plain": [
       "(60000, 28, 28)"
      ]
     },
     "execution_count": 3,
     "metadata": {},
     "output_type": "execute_result"
    }
   ],
   "source": [
    "# # checking the dimensions of the data\n",
    "x_train.shape"
   ]
  },
  {
   "cell_type": "code",
   "execution_count": 4,
   "metadata": {},
   "outputs": [
    {
     "data": {
      "text/plain": [
       "(10000, 28, 28)"
      ]
     },
     "execution_count": 4,
     "metadata": {},
     "output_type": "execute_result"
    }
   ],
   "source": [
    "x_test.shape"
   ]
  },
  {
   "cell_type": "code",
   "execution_count": 5,
   "metadata": {},
   "outputs": [
    {
     "data": {
      "text/plain": [
       "(10000,)"
      ]
     },
     "execution_count": 5,
     "metadata": {},
     "output_type": "execute_result"
    }
   ],
   "source": [
    "y_test.shape"
   ]
  },
  {
   "cell_type": "markdown",
   "metadata": {},
   "source": [
    "# Visualizing the digits"
   ]
  },
  {
   "cell_type": "code",
   "execution_count": 6,
   "metadata": {},
   "outputs": [],
   "source": [
    "import numpy as np\n",
    "import matplotlib.pyplot as plt\n",
    "import seaborn as sns\n",
    "%matplotlib inline"
   ]
  },
  {
   "cell_type": "code",
   "execution_count": 7,
   "metadata": {},
   "outputs": [
    {
     "data": {
      "image/png": "[encoded data removed]",
      "text/plain": [
       "<Figure size 1152x648 with 24 Axes>"
      ]
     },
     "metadata": {},
     "output_type": "display_data"
    }
   ],
   "source": [
    "index = np.random.choice(np.arange(len(x_train)), 24, replace = False)\n",
    "figure,axes = plt.subplots(nrows = 4, ncols = 6, figsize = (16,9))\n",
    "\n",
    "for item in zip(axes.ravel(), x_train[index], y_train[index]):\n",
    "    axes, image,target = item\n",
    "    axes.imshow(image, cmap = plt.cm.gray_r)\n",
    "    axes.set_xticks([]) # removes the x-ticks marks\n",
    "    axes.set_yticks([]) # remove the y-ticks marks\n",
    "    axes.set_title(target)\n",
    "\n",
    "plt.tight_layout()"
   ]
  },
  {
   "cell_type": "markdown",
   "metadata": {},
   "source": [
    "# Data preparation\n",
    "\n",
    "* Scikit-learn the dataset are bundled and are preprocessed in shape for \n",
    "    the models to be used in\n",
    "    \n",
    "* kereas convonet the dataset mnist will need to be prepared.\n",
    "\n",
    "* The data needs to be reshaped.\n",
    "\n",
    "* Each sample must have the shape\n",
    "\n",
    "* (width, height, channel) -- Each pixel has one channel for the grayscale \n",
    "    0-255 the sample shades are (28, 28, 1)\n",
    "    \n",
    "* As the NN learns from the images, it creates more channels \n",
    "    + The channel will represent more complex features i.e. edges, curves and \n",
    "        lines\n",
    "    + Enable the network to recognize digits based on the features and how they are combined"
   ]
  },
  {
   "cell_type": "markdown",
   "metadata": {},
   "source": [
    "# Reshaping the data"
   ]
  },
  {
   "cell_type": "code",
   "execution_count": 8,
   "metadata": {},
   "outputs": [],
   "source": [
    "x_train = x_train.reshape((60000, 28, 28, 1))"
   ]
  },
  {
   "cell_type": "code",
   "execution_count": 9,
   "metadata": {},
   "outputs": [
    {
     "data": {
      "text/plain": [
       "(60000, 28, 28, 1)"
      ]
     },
     "execution_count": 9,
     "metadata": {},
     "output_type": "execute_result"
    }
   ],
   "source": [
    "x_train.shape"
   ]
  },
  {
   "cell_type": "code",
   "execution_count": 10,
   "metadata": {},
   "outputs": [],
   "source": [
    "x_test = x_test.reshape((10000, 28, 28, 1))"
   ]
  },
  {
   "cell_type": "code",
   "execution_count": 11,
   "metadata": {},
   "outputs": [
    {
     "data": {
      "text/plain": [
       "(10000, 28, 28, 1)"
      ]
     },
     "execution_count": 11,
     "metadata": {},
     "output_type": "execute_result"
    }
   ],
   "source": [
    "x_test.shape"
   ]
  },
  {
   "cell_type": "markdown",
   "metadata": {},
   "source": [
    "# Normalizing the image data"
   ]
  },
  {
   "cell_type": "markdown",
   "metadata": {},
   "source": [
    "Numeric features values -> could vary widely\n",
    "28*28 = 784 == Deep learning perform better on data that is normalized\n",
    "* 0.0 - 1.0\n",
    "* A range for which the data mean is 0.0 and SD is 1.0\n",
    "=> Divide each pixel value of 255 to normalize to 0.0 - 1.0\n",
    "RGB (0 - 255): 0, 0, 255"
   ]
  },
  {
   "cell_type": "code",
   "execution_count": 12,
   "metadata": {},
   "outputs": [],
   "source": [
    "x_train = x_train.astype('float32')/255"
   ]
  },
  {
   "cell_type": "code",
   "execution_count": 13,
   "metadata": {},
   "outputs": [],
   "source": [
    "x_test = x_test.astype('float32')/255"
   ]
  },
  {
   "cell_type": "markdown",
   "metadata": {},
   "source": [
    "# one-Hot Encoding: Convert labels into categorical data"
   ]
  },
  {
   "cell_type": "markdown",
   "metadata": {},
   "source": [
    "Prediction for each digit will be an array of 10 probabilities. e.g. 0.8, 0.0, 0.1, 0, ....(10). \n",
    "To evaluate the model accuracy, Keras compares predictions to datasets labels\n",
    "* Both must have the same shape\n",
    "* The MNIST labels are individual integers 0 - 9\n",
    "We must transform labels into categorical data arrays that matches the prediction format.\n",
    "We use one-hot encoding to convert labels from integers into 10 element arrays of 1.0s and 0.0s\n",
    "Only one element is a 1.0 and the rest are 0.0s (0, 1, 2, ...9):\n",
    "(0, 0.05, 0.5, 0.8, 0.000) >> 0(1) 1(0) 2(0) ... 9(0) tensorflow.keras.utils function to_categorical --\n",
    "one-hot encoding apples,, lemons,, oranges,,, 1 0"
   ]
  },
  {
   "cell_type": "markdown",
   "metadata": {},
   "source": [
    "# One-Hot encoding"
   ]
  },
  {
   "cell_type": "code",
   "execution_count": 14,
   "metadata": {},
   "outputs": [],
   "source": [
    "from tensorflow.keras.utils import to_categorical"
   ]
  },
  {
   "cell_type": "code",
   "execution_count": 15,
   "metadata": {},
   "outputs": [],
   "source": [
    "y_train = to_categorical(y_train)"
   ]
  },
  {
   "cell_type": "code",
   "execution_count": 16,
   "metadata": {},
   "outputs": [
    {
     "data": {
      "text/plain": [
       "(60000, 10)"
      ]
     },
     "execution_count": 16,
     "metadata": {},
     "output_type": "execute_result"
    }
   ],
   "source": [
    "y_train.shape"
   ]
  },
  {
   "cell_type": "code",
   "execution_count": 17,
   "metadata": {},
   "outputs": [
    {
     "data": {
      "text/plain": [
       "array([0., 0., 0., 0., 0., 1., 0., 0., 0., 0.], dtype=float32)"
      ]
     },
     "execution_count": 17,
     "metadata": {},
     "output_type": "execute_result"
    }
   ],
   "source": [
    "y_train[0]"
   ]
  },
  {
   "cell_type": "code",
   "execution_count": 18,
   "metadata": {},
   "outputs": [
    {
     "data": {
      "text/plain": [
       "10"
      ]
     },
     "execution_count": 18,
     "metadata": {},
     "output_type": "execute_result"
    }
   ],
   "source": [
    "len(y_train[0])"
   ]
  },
  {
   "cell_type": "code",
   "execution_count": 19,
   "metadata": {},
   "outputs": [],
   "source": [
    "y_test = to_categorical(y_test)"
   ]
  },
  {
   "cell_type": "code",
   "execution_count": 20,
   "metadata": {},
   "outputs": [
    {
     "data": {
      "text/plain": [
       "(10000, 10)"
      ]
     },
     "execution_count": 20,
     "metadata": {},
     "output_type": "execute_result"
    }
   ],
   "source": [
    "y_test.shape"
   ]
  },
  {
   "cell_type": "markdown",
   "metadata": {},
   "source": [
    "# Creation of a Convolutional Neural Network"
   ]
  },
  {
   "cell_type": "markdown",
   "metadata": {},
   "source": [
    "* Configure a CNN\n",
    "* Sequential Model -- Stacks layers to execute sequentially\n",
    "    - Output of one layer  becomes the input to the next\n",
    "    - Feed forward network\n",
    "    - (Not all layers will feed the next layer)"
   ]
  },
  {
   "cell_type": "code",
   "execution_count": 21,
   "metadata": {},
   "outputs": [],
   "source": [
    "from tensorflow.keras.models import Sequential as sq"
   ]
  },
  {
   "cell_type": "code",
   "execution_count": 22,
   "metadata": {},
   "outputs": [],
   "source": [
    "cnn = sq()"
   ]
  },
  {
   "cell_type": "code",
   "execution_count": 23,
   "metadata": {},
   "outputs": [
    {
     "data": {
      "text/plain": [
       "<tensorflow.python.keras.engine.sequential.Sequential at 0x1fd2fd280f0>"
      ]
     },
     "execution_count": 23,
     "metadata": {},
     "output_type": "execute_result"
    }
   ],
   "source": [
    "cnn"
   ]
  },
  {
   "cell_type": "markdown",
   "metadata": {},
   "source": [
    "# Adding layers to the network"
   ]
  },
  {
   "cell_type": "markdown",
   "metadata": {},
   "source": [
    "* A typical convonet has:\n",
    "   - An input layer -- receives the training samples\n",
    "   - HIdden layers -- that learn  from the training samples\n",
    "   - Output layer -- produces the predictions\n"
   ]
  },
  {
   "cell_type": "code",
   "execution_count": 24,
   "metadata": {},
   "outputs": [],
   "source": [
    "from tensorflow.keras.layers import Conv2D, Dense, Flatten, MaxPooling2D"
   ]
  },
  {
   "cell_type": "markdown",
   "metadata": {},
   "source": [
    "# First convolution\n",
    "\n",
    "We start with the convolution layer\n",
    "It uses the relationship between pixels in close proximity, to run learn some\n",
    "*useful features* (patterns) in small areas of each sample\n",
    "These features become input to the subsequent layers"
   ]
  },
  {
   "cell_type": "markdown",
   "metadata": {},
   "source": [
    "The next convolution layer moves kernel (3*3 matrix) to the right(sride)\n",
    "which then overlaps witht he previous kernel, so the convolution layer can learn\n",
    "from all features that touch one another. \n",
    "Complete pass left to right and top to bottom is called a **filter**.\n",
    "\n",
    "For a 3 by 3 kernel, the filter dimensions will be 2 less the input i.e.\n",
    "(6*6) -> (4*4) For the test data (28*28) === 26*26. The number of filters commonly used in the \n",
    "convolution layer is commonly 32 or 64, and each filter generates different results.\n",
    "\n",
    "Higher resolution images ---> more freatures and that means you require more filters.\n",
    "**The set of filters produced by a convolutional layer is called a feature map**.\n",
    "Subsequent convolutional layers combine features from previous feature maps to recognize large \n",
    "features. e.g. In facial recognition, the early layers might recognize lines, edges, curves and \n",
    "the subsequent layers might combine those features to get things like eyes, eyeballs, nose, ears\n",
    "and mouth.\n",
    "\n",
    "``After learning a feature, it can recognize that feature anywhere in the image`` -->  Convents\n",
    "are popular for object recognition in images\n"
   ]
  },
  {
   "cell_type": "code",
   "execution_count": 25,
   "metadata": {},
   "outputs": [
    {
     "name": "stdout",
     "output_type": "stream",
     "text": [
      "WARNING:tensorflow:From C:\\Users\\Wamaitha\\anaconda3\\envs\\tf_env\\lib\\site-packages\\tensorflow\\python\\ops\\init_ops.py:1251: calling VarianceScaling.__init__ (from tensorflow.python.ops.init_ops) with dtype is deprecated and will be removed in a future version.\n",
      "Instructions for updating:\n",
      "Call initializer instance with the dtype argument instead of passing it to the constructor\n"
     ]
    }
   ],
   "source": [
    "#Adding coonv2D which implements a convolutional layer (layer 1)\n",
    "cnn.add(Conv2D(filters=64, kernel_size=(3,3), activation='relu', input_shape=(28,28,1)))"
   ]
  },
  {
   "cell_type": "code",
   "execution_count": 26,
   "metadata": {},
   "outputs": [
    {
     "data": {
      "text/plain": [
       "<tensorflow.python.keras.engine.sequential.Sequential at 0x1fd2fd280f0>"
      ]
     },
     "execution_count": 26,
     "metadata": {},
     "output_type": "execute_result"
    }
   ],
   "source": [
    "cnn"
   ]
  },
  {
   "cell_type": "markdown",
   "metadata": {},
   "source": [
    "* filters = 64: number of filters in the resulting feature map\n",
    "* kernel_size = (3, 3) == The size of the kernel used in each filter\n",
    "* activation = 'relu' == Rectifird Linear Unit activation function.\n",
    "\n",
    "s = activation(input*weights + bias) sinh = f(6) linear s=1"
   ]
  },
  {
   "cell_type": "markdown",
   "metadata": {},
   "source": [
    "Add a conv layer -- First layer shape (28, 28, 1) creates an input layer to load the samples and pass them to the Conv2D layer which is the first hidden layer. Subsequent layers infers input_shape from the previous layer's output -- **stacked\n",
    "layers**\n",
    "\n",
    "``Dimensionality of the first convolution layer's output`` -- since specified a 64 filters and a 3*3 kernel so the feature map is 26 * 26 * 64 features total 43264 -- significant increase in dimensionality -- this is what happens --- each layer adds features and this adds map dimentionality which grows significantly. Reason why deep learning requires high processing power.\n",
    "\n",
    "**Over fitting** -- This can occur when a model is too complex compared to what it is modelling. In extreme cases the model could even memorize its training data. In deep learning over fitting occurs if the dimensionality becomes too large. --> Computation time. CPU -- slow GPU -- > \n",
    "One way of preventing overfitting --> **pooling** --> adding a pooling layer to reduce the computation time (also reducing overfitting) a convolution layer is often followed by one or more layers that reduces dimentionality of the convolutional layer's output.\n",
    "\n",
    "Pooling compressed (down samples) the data,,, results in discarding some features. This reduces computation required, and creates a more ***general model***\n",
    "e.g. 44.1khz -- 44100 samples per second ... \n",
    "training(lower***) /// testing data( higher***)\n",
    "\n",
    "The most used pooling technique -- max pooling... keeps the maximum. -- \n",
    "Adding a pooling layer -- outputs maximum feature from each pool\n",
    "Pools do not overlap..\n",
    "Stride for a 2 by 2 pool is 2\n",
    "each group of 4 features wil be reduced to one (2*2) pooling will compress\n",
    "the features by 75%\n",
    "\n",
    "26*26*64 == 13*13*64"
   ]
  },
  {
   "cell_type": "code",
   "execution_count": 27,
   "metadata": {},
   "outputs": [
    {
     "data": {
      "text/plain": [
       "784"
      ]
     },
     "execution_count": 27,
     "metadata": {},
     "output_type": "execute_result"
    }
   ],
   "source": [
    "28*28"
   ]
  },
  {
   "cell_type": "code",
   "execution_count": 28,
   "metadata": {},
   "outputs": [
    {
     "data": {
      "text/plain": [
       "43264"
      ]
     },
     "execution_count": 28,
     "metadata": {},
     "output_type": "execute_result"
    }
   ],
   "source": [
    "26*26*64"
   ]
  },
  {
   "cell_type": "code",
   "execution_count": 29,
   "metadata": {},
   "outputs": [],
   "source": [
    "#pooling layer\n",
    "cnn.add(MaxPooling2D(pool_size=(2,2)))"
   ]
  },
  {
   "cell_type": "code",
   "execution_count": 30,
   "metadata": {},
   "outputs": [
    {
     "data": {
      "text/plain": [
       "<tensorflow.python.keras.engine.sequential.Sequential at 0x1fd2fd280f0>"
      ]
     },
     "execution_count": 30,
     "metadata": {},
     "output_type": "execute_result"
    }
   ],
   "source": [
    "cnn"
   ]
  },
  {
   "cell_type": "markdown",
   "metadata": {},
   "source": [
    "***Adding another convolutional layer and pooling layer -- convents have\n",
    "many convolutional and pooling layers...***"
   ]
  },
  {
   "cell_type": "code",
   "execution_count": 31,
   "metadata": {},
   "outputs": [],
   "source": [
    "#Convo layer 2\n",
    "cnn.add(Conv2D(filters=128, kernel_size=(3,3), activation='relu'))"
   ]
  },
  {
   "cell_type": "code",
   "execution_count": 32,
   "metadata": {},
   "outputs": [],
   "source": [
    "#pooling layer 2\n",
    "cnn.add(MaxPooling2D(pool_size=(2,2)))"
   ]
  },
  {
   "cell_type": "code",
   "execution_count": 33,
   "metadata": {},
   "outputs": [
    {
     "data": {
      "text/plain": [
       "<tensorflow.python.keras.engine.sequential.Sequential at 0x1fd2fd280f0>"
      ]
     },
     "execution_count": 33,
     "metadata": {},
     "output_type": "execute_result"
    }
   ],
   "source": [
    "cnn"
   ]
  },
  {
   "cell_type": "markdown",
   "metadata": {},
   "source": [
    "***The input to the second convo is 13*13*64(because of pooling) output from the first pooling layer.***\n",
    "\n",
    "***Output of this Conv2D layer will be 11*11*128***\n",
    "***For odd dimensions, the keras pooling layer rounds down uneven numbers i.e. (11*11*128)***\n",
    "in this case 10*10 -- (5*5 by 128)\n",
    "***Increase filters when you pool coz <filter and <features not good***\n"
   ]
  },
  {
   "cell_type": "markdown",
   "metadata": {},
   "source": [
    "# Flattening the results\n",
    "The model's output will be a one dimensional (1d) array of 10 probabilities that classify the digits.\n",
    "To prepare for a 1D final prediction, we need to flatten the previous layers to one dimension\n",
    "Flattens layer's output will be 1 by 3200 (5*5*128) == 3200"
   ]
  },
  {
   "cell_type": "code",
   "execution_count": 34,
   "metadata": {},
   "outputs": [],
   "source": [
    "#Flattening the results\n",
    "cnn.add(Flatten())"
   ]
  },
  {
   "cell_type": "code",
   "execution_count": 35,
   "metadata": {},
   "outputs": [
    {
     "data": {
      "text/plain": [
       "<tensorflow.python.keras.engine.sequential.Sequential at 0x1fd2fd280f0>"
      ]
     },
     "execution_count": 35,
     "metadata": {},
     "output_type": "execute_result"
    }
   ],
   "source": [
    "cnn"
   ]
  },
  {
   "cell_type": "markdown",
   "metadata": {},
   "source": [
    "* First layers, (before flatten) learned digit features.\n",
    "* We then must learn the relationship between those features. ->\n",
    "    to classify which digit each image represents.\n",
    "* We use te fully connected Dense layers to achieve this\n",
    "* We create a dense layer (128 neurons- units) that learns from \n",
    "    3200 outputs"
   ]
  },
  {
   "cell_type": "code",
   "execution_count": 36,
   "metadata": {},
   "outputs": [],
   "source": [
    "cnn.add(Dense(units=128, activation='relu'))"
   ]
  },
  {
   "cell_type": "markdown",
   "metadata": {},
   "source": [
    "Convonents contain at least one dense layer. For more complex image\n",
    "dataset (higher resolution images) - This requires more dense layers: commonly used is 4096 neurons\n"
   ]
  },
  {
   "cell_type": "markdown",
   "metadata": {},
   "source": [
    "We add another dense layer so as to produce the final output. The final dense layer classifies output into neurons\n",
    "(0-9). We use the softmax activation function. It converts the 10 neurons into classification probabilities.\n",
    "The neuron with the highest probabilities will represent the prediction of the given input digit."
   ]
  },
  {
   "cell_type": "code",
   "execution_count": 37,
   "metadata": {},
   "outputs": [],
   "source": [
    "cnn.add(Dense(units=10, activation='softmax'))"
   ]
  },
  {
   "cell_type": "markdown",
   "metadata": {},
   "source": [
    "# Printing the model"
   ]
  },
  {
   "cell_type": "markdown",
   "metadata": {},
   "source": [
    "* We use the summary method."
   ]
  },
  {
   "cell_type": "code",
   "execution_count": 38,
   "metadata": {},
   "outputs": [
    {
     "name": "stdout",
     "output_type": "stream",
     "text": [
      "Model: \"sequential\"\n",
      "_________________________________________________________________\n",
      "Layer (type)                 Output Shape              Param #   \n",
      "=================================================================\n",
      "conv2d (Conv2D)              (None, 26, 26, 64)        640       \n",
      "_________________________________________________________________\n",
      "max_pooling2d (MaxPooling2D) (None, 13, 13, 64)        0         \n",
      "_________________________________________________________________\n",
      "conv2d_1 (Conv2D)            (None, 11, 11, 128)       73856     \n",
      "_________________________________________________________________\n",
      "max_pooling2d_1 (MaxPooling2 (None, 5, 5, 128)         0         \n",
      "_________________________________________________________________\n",
      "flatten (Flatten)            (None, 3200)              0         \n",
      "_________________________________________________________________\n",
      "dense (Dense)                (None, 128)               409728    \n",
      "_________________________________________________________________\n",
      "dense_1 (Dense)              (None, 10)                1290      \n",
      "=================================================================\n",
      "Total params: 485,514\n",
      "Trainable params: 485,514\n",
      "Non-trainable params: 0\n",
      "_________________________________________________________________\n"
     ]
    }
   ],
   "source": [
    "cnn.summary()"
   ]
  },
  {
   "cell_type": "markdown",
   "metadata": {},
   "source": [
    "Outputs:\n",
    "* Note that the output shapes and the numbers of parameters\n",
    "* The number of parameters are the weights\n",
    "* The network is relatively small. But has to learn over 500, 000 (28*28*64) -\n",
    "    the images are not so big. Assume 4k video frames, super high resolution images -- digital cameras\n",
    "* The output shape column: None means that the model does not know in advance how many training samples you\n",
    "    are going to provide."
   ]
  },
  {
   "cell_type": "markdown",
   "metadata": {},
   "source": [
    "# Visualizing the model structure"
   ]
  },
  {
   "cell_type": "code",
   "execution_count": 39,
   "metadata": {},
   "outputs": [
    {
     "data": {
      "image/png": "[encoded data removed]",
      "text/plain": [
       "<IPython.core.display.Image object>"
      ]
     },
     "execution_count": 39,
     "metadata": {},
     "output_type": "execute_result"
    }
   ],
   "source": [
    "from tensorflow.keras.utils import plot_model\n",
    "from IPython.display import Image\n",
    "plot_model(cnn, to_file='convonet.png', show_shapes=True, show_layer_names=True)\n",
    "Image(filename='convonet.png')# display the image"
   ]
  },
  {
   "cell_type": "markdown",
   "metadata": {},
   "source": [
    "# Training and evaluation"
   ]
  },
  {
   "cell_type": "code",
   "execution_count": 40,
   "metadata": {},
   "outputs": [],
   "source": [
    "#compiling the model\n",
    "cnn.compile(optimizer='adam', loss='categorical_crossentropy', metrics=['accuracy'])"
   ]
  },
  {
   "cell_type": "markdown",
   "metadata": {},
   "source": [
    "* Adam (performs well in most models) -- This adjusts the weights in the neural networl as it learns\n",
    "* Loss functions used by the optimizer in multi - classification network"
   ]
  },
  {
   "cell_type": "code",
   "execution_count": 41,
   "metadata": {},
   "outputs": [
    {
     "name": "stdout",
     "output_type": "stream",
     "text": [
      "Train on 54000 samples, validate on 6000 samples\n",
      "Epoch 1/5\n",
      "54000/54000 [==============================] - 105s 2ms/sample - loss: 0.1409 - acc: 0.9564 - val_loss: 0.0496 - val_acc: 0.9860\n",
      "Epoch 2/5\n",
      "54000/54000 [==============================] - 134s 2ms/sample - loss: 0.0440 - acc: 0.9867 - val_loss: 0.0378 - val_acc: 0.9887\n",
      "Epoch 3/5\n",
      "54000/54000 [==============================] - 146s 3ms/sample - loss: 0.0308 - acc: 0.9905 - val_loss: 0.0326 - val_acc: 0.9915\n",
      "Epoch 4/5\n",
      "54000/54000 [==============================] - 209s 4ms/sample - loss: 0.0219 - acc: 0.9927 - val_loss: 0.0415 - val_acc: 0.9882\n",
      "Epoch 5/5\n",
      "54000/54000 [==============================] - 168s 3ms/sample - loss: 0.0157 - acc: 0.9949 - val_loss: 0.0296 - val_acc: 0.9928\n"
     ]
    },
    {
     "data": {
      "text/plain": [
       "<tensorflow.python.keras.callbacks.History at 0x1fd2f5b7ef0>"
      ]
     },
     "execution_count": 41,
     "metadata": {},
     "output_type": "execute_result"
    }
   ],
   "source": [
    "#fit method is used\n",
    "cnn.fit(x_train, y_train, epochs=5, batch_size=64, validation_split=0.1)"
   ]
  },
  {
   "cell_type": "markdown",
   "metadata": {},
   "source": [
    "* epochs - training the neural network  iteratively over time -- epoch -- process every training dataset sample once.\n",
    "* Hyper parameter -- tuning\n",
    "* Batch size - number of samples to process at a tune -2 from 32, 512\n",
    "* validation_split -- 0.1 - each epoch model -- uses validation samples to make predictions. Displays the loss and accuracy -- tune your layers and fit method;s hyperparameter -- layers compositions of the model\n",
    "* Can specify validation data with argument, validation_data"
   ]
  },
  {
   "cell_type": "code",
   "execution_count": 42,
   "metadata": {},
   "outputs": [
    {
     "name": "stdout",
     "output_type": "stream",
     "text": [
      "83.2\n"
     ]
    }
   ],
   "source": [
    "print(sum([89,89,77,86,75])/5)"
   ]
  },
  {
   "cell_type": "code",
   "execution_count": 43,
   "metadata": {},
   "outputs": [
    {
     "data": {
      "text/plain": [
       "6.933333333333334"
      ]
     },
     "execution_count": 43,
     "metadata": {},
     "output_type": "execute_result"
    }
   ],
   "source": [
    "(83.2*5)/60"
   ]
  },
  {
   "cell_type": "code",
   "execution_count": 44,
   "metadata": {},
   "outputs": [
    {
     "name": "stdout",
     "output_type": "stream",
     "text": [
      "10000/10000 [==============================] - 15s 1ms/sample - loss: 0.0249 - acc: 0.9927\n"
     ]
    }
   ],
   "source": [
    "#evaluating the model on unseen data using the evaluate method\n",
    "loss, accuracy = cnn.evaluate(x_test, y_test)"
   ]
  },
  {
   "cell_type": "code",
   "execution_count": 45,
   "metadata": {},
   "outputs": [
    {
     "data": {
      "text/plain": [
       "0.02486318659093813"
      ]
     },
     "execution_count": 45,
     "metadata": {},
     "output_type": "execute_result"
    }
   ],
   "source": [
    "loss"
   ]
  },
  {
   "cell_type": "code",
   "execution_count": 46,
   "metadata": {},
   "outputs": [
    {
     "data": {
      "text/plain": [
       "0.9927"
      ]
     },
     "execution_count": 46,
     "metadata": {},
     "output_type": "execute_result"
    }
   ],
   "source": [
    "accuracy"
   ]
  },
  {
   "cell_type": "markdown",
   "metadata": {},
   "source": [
    "# Making predictions with the model's predict method"
   ]
  },
  {
   "cell_type": "code",
   "execution_count": 47,
   "metadata": {},
   "outputs": [],
   "source": [
    "prediction = cnn.predict(x_test)"
   ]
  },
  {
   "cell_type": "code",
   "execution_count": 48,
   "metadata": {},
   "outputs": [
    {
     "data": {
      "text/plain": [
       "array([0., 0., 0., 0., 0., 0., 0., 1., 0., 0.], dtype=float32)"
      ]
     },
     "execution_count": 48,
     "metadata": {},
     "output_type": "execute_result"
    }
   ],
   "source": [
    "y_test[0] #First digit is a 7"
   ]
  },
  {
   "cell_type": "code",
   "execution_count": 49,
   "metadata": {},
   "outputs": [
    {
     "name": "stdout",
     "output_type": "stream",
     "text": [
      "0 : 0.0000000961%\n",
      "1 : 0.0000000441%\n",
      "2 : 0.0000060721%\n",
      "3 : 0.0000029021%\n",
      "4 : 0.0000000001%\n",
      "5 : 0.0000000227%\n",
      "6 : 0.0000000000%\n",
      "7 : 99.9999880791%\n",
      "8 : 0.0000000067%\n",
      "9 : 0.0000041563%\n"
     ]
    }
   ],
   "source": [
    "for index, probability in enumerate(prediction[0]):\n",
    "    print(f'{index} : {probability:.10%}')"
   ]
  },
  {
   "cell_type": "markdown",
   "metadata": {},
   "source": [
    "* Our model believes this digit is a 7: nearly 100% certain\n",
    "* Not all predictions are as accurate or have this certainty"
   ]
  },
  {
   "cell_type": "markdown",
   "metadata": {},
   "source": [
    "# Locating the incorrect predictions"
   ]
  },
  {
   "cell_type": "markdown",
   "metadata": {},
   "source": [
    "* We want to view incorrectly predicted images => so as to get a sense of \n",
    "    digits that the model has trouble getting right.\n",
    "* If the model is mispredicting 3s then we need more 3s\n",
    "* To determine whether a prediction was correct, we compare the index with the largest probablility\n",
    "    in the predictions [0] --> the one that contains the \"1\".\n",
    "    ** IF the indices are the same then the prediction is correct *\"\n",
    "    \n",
    "* Reshape the sample from the shape(28, 28, 1) that keras needed back to (28, 28) this is\n",
    "    what matplotlip needs for displaying images\n"
   ]
  },
  {
   "cell_type": "code",
   "execution_count": 50,
   "metadata": {},
   "outputs": [],
   "source": [
    "images = x_test.reshape((10000, 28, 28))"
   ]
  },
  {
   "cell_type": "code",
   "execution_count": 51,
   "metadata": {},
   "outputs": [],
   "source": [
    "incorrect_predictions = []#list"
   ]
  },
  {
   "cell_type": "code",
   "execution_count": 52,
   "metadata": {},
   "outputs": [],
   "source": [
    "for i, (p, e) in enumerate(zip(prediction, y_test)):\n",
    "    predicted, expected = np.argmax(p), np.argmax(e)\n",
    "    if predicted != expected: #prediction was incorrect\n",
    "        incorrect_predictions.append((i, images[i], predicted, expected))"
   ]
  },
  {
   "cell_type": "markdown",
   "metadata": {},
   "source": [
    "p -- predicted value array and e is the expected\n",
    "argmax -- determines the index of an array with the highest valued element"
   ]
  },
  {
   "cell_type": "code",
   "execution_count": 53,
   "metadata": {},
   "outputs": [
    {
     "data": {
      "text/plain": [
       "73"
      ]
     },
     "execution_count": 53,
     "metadata": {},
     "output_type": "execute_result"
    }
   ],
   "source": [
    "len(incorrect_predictions)"
   ]
  },
  {
   "cell_type": "markdown",
   "metadata": {},
   "source": [
    "* Display 24 of the incorrect images. Labelled with each images index, \n",
    "    predicted value and the expected value. Before reading the expected values,\n",
    "    look at each digit and write down what digit you think it is.\n",
    "** Helps getting know your data**\n"
   ]
  },
  {
   "cell_type": "code",
   "execution_count": 54,
   "metadata": {},
   "outputs": [
    {
     "data": {
      "image/png": "[encoded data removed]",
      "text/plain": [
       "<Figure size 1152x864 with 24 Axes>"
      ]
     },
     "metadata": {},
     "output_type": "display_data"
    }
   ],
   "source": [
    "figure, axes = plt.subplots(nrows=4, ncols=6, figsize=(16, 12))\n",
    "\n",
    "for axes, item in zip(axes.ravel(), incorrect_predictions):\n",
    "    index, image, predicted, expected = item\n",
    "    axes.imshow(image, cmap=plt.cm.gray_r)\n",
    "    axes.set_xticks([]) # remove the x axis ticks marks\n",
    "    axes.set_yticks([]) # remove the y axis ticks marks\n",
    "    axes.set_title(f'index: {index}\\n p: {predicted} e: {expected} ')\n",
    "    plt.tight_layout()"
   ]
  },
  {
   "cell_type": "markdown",
   "metadata": {},
   "source": [
    "# Displaying the probabilities for the several incorrect predictions"
   ]
  },
  {
   "cell_type": "code",
   "execution_count": 55,
   "metadata": {},
   "outputs": [],
   "source": [
    "def display_probabilities(prediction):\n",
    "    for index, probability in enumerate(prediction):\n",
    "        print(f'{index}: {probability: 10%}')"
   ]
  },
  {
   "cell_type": "code",
   "execution_count": 56,
   "metadata": {},
   "outputs": [
    {
     "name": "stdout",
     "output_type": "stream",
     "text": [
      "0:  0.000005%\n",
      "1:  0.000466%\n",
      "2:  0.000129%\n",
      "3:  0.105477%\n",
      "4:  0.000143%\n",
      "5:  0.000073%\n",
      "6:  0.000000%\n",
      "7:  67.544007%\n",
      "8:  32.340321%\n",
      "9:  0.009372%\n"
     ]
    }
   ],
   "source": [
    "display_probabilities(prediction[1530])"
   ]
  },
  {
   "cell_type": "code",
   "execution_count": 57,
   "metadata": {},
   "outputs": [
    {
     "name": "stdout",
     "output_type": "stream",
     "text": [
      "0:  0.000020%\n",
      "1:  0.000982%\n",
      "2:  0.897686%\n",
      "3:  0.334617%\n",
      "4:  0.000001%\n",
      "5:  0.000005%\n",
      "6:  0.000010%\n",
      "7:  0.000064%\n",
      "8:  98.766601%\n",
      "9:  0.000016%\n"
     ]
    }
   ],
   "source": [
    "display_probabilities(prediction[582])"
   ]
  },
  {
   "cell_type": "markdown",
   "metadata": {},
   "source": [
    "# Saving and loading the model"
   ]
  },
  {
   "cell_type": "markdown",
   "metadata": {},
   "source": [
    "* Saving model state\n",
    "    - Making more predictions\n",
    "    - Training more \n",
    "    - Train for nre problems\n",
    "    - Transfer learning -- to a new model "
   ]
  },
  {
   "cell_type": "code",
   "execution_count": 58,
   "metadata": {},
   "outputs": [],
   "source": [
    "cnn.save('mnist_cnn.h5') #Stores the model architecture and state and \n",
    "                        # in a hierarchical format"
   ]
  },
  {
   "cell_type": "code",
   "execution_count": 59,
   "metadata": {},
   "outputs": [],
   "source": [
    "# loading a saved model\n",
    "from tensorflow.keras.models import load_model\n"
   ]
  },
  {
   "cell_type": "code",
   "execution_count": 60,
   "metadata": {},
   "outputs": [
    {
     "name": "stdout",
     "output_type": "stream",
     "text": [
      "WARNING:tensorflow:From C:\\Users\\Wamaitha\\anaconda3\\envs\\tf_env\\lib\\site-packages\\tensorflow\\python\\ops\\init_ops.py:97: calling GlorotUniform.__init__ (from tensorflow.python.ops.init_ops) with dtype is deprecated and will be removed in a future version.\n",
      "Instructions for updating:\n",
      "Call initializer instance with the dtype argument instead of passing it to the constructor\n",
      "WARNING:tensorflow:From C:\\Users\\Wamaitha\\anaconda3\\envs\\tf_env\\lib\\site-packages\\tensorflow\\python\\ops\\init_ops.py:97: calling Zeros.__init__ (from tensorflow.python.ops.init_ops) with dtype is deprecated and will be removed in a future version.\n",
      "Instructions for updating:\n",
      "Call initializer instance with the dtype argument instead of passing it to the constructor\n"
     ]
    }
   ],
   "source": [
    "cnn = load_model('mnist_cnn.h5')"
   ]
  },
  {
   "cell_type": "code",
   "execution_count": 62,
   "metadata": {},
   "outputs": [
    {
     "ename": "SyntaxError",
     "evalue": "invalid syntax (<ipython-input-62-799350860dd5>, line 1)",
     "output_type": "error",
     "traceback": [
      "\u001b[1;36m  File \u001b[1;32m\"<ipython-input-62-799350860dd5>\"\u001b[1;36m, line \u001b[1;32m1\u001b[0m\n\u001b[1;33m    tensorboard --logdir logs/scalars\u001b[0m\n\u001b[1;37m                            ^\u001b[0m\n\u001b[1;31mSyntaxError\u001b[0m\u001b[1;31m:\u001b[0m invalid syntax\n"
     ]
    }
   ],
   "source": [
    "tensorboard --logdir logs/scalars\n"
   ]
  },
  {
   "cell_type": "code",
   "execution_count": null,
   "metadata": {},
   "outputs": [],
   "source": []
  }
 ],
 "metadata": {
  "kernelspec": {
   "display_name": "Python 3",
   "language": "python",
   "name": "python3"
  },
  "language_info": {
   "codemirror_mode": {
    "name": "ipython",
    "version": 3
   },
   "file_extension": ".py",
   "mimetype": "text/x-python",
   "name": "python",
   "nbconvert_exporter": "python",
   "pygments_lexer": "ipython3",
   "version": "3.6.10"
  }
 },
 "nbformat": 4,
 "nbformat_minor": 4
}
